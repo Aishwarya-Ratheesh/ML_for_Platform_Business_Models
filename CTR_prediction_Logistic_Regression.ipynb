{
 "cells": [
  {
   "cell_type": "markdown",
   "id": "5ca74cf8",
   "metadata": {},
   "source": [
    "# CTR Prediction using Logistic Regression and XGBoost"
   ]
  },
  {
   "cell_type": "markdown",
   "id": "1af104d7",
   "metadata": {},
   "source": [
    "The predictions are done on Simulated data and then on Sample Criteo Data. This notebook does not focus on EDA. It only focus on using the machine learning models.\n",
    "\n",
    "\n",
    "Steps:\n",
    "\n",
    "        1. Load and preprocess data\n",
    "        2. Train a Logistic Regression model\n",
    "        3. Train an XGBoost model\n",
    "        4. Evaluate performance"
   ]
  },
  {
   "cell_type": "markdown",
   "id": "526f1f96",
   "metadata": {},
   "source": [
    "## Load and Preprocess Data"
   ]
  },
  {
   "cell_type": "markdown",
   "id": "7dfc6d34",
   "metadata": {},
   "source": [
    "#### Install dependancies"
   ]
  },
  {
   "cell_type": "code",
   "execution_count": 65,
   "id": "d6509cd8",
   "metadata": {},
   "outputs": [
    {
     "name": "stdout",
     "output_type": "stream",
     "text": [
      "\u001b[33mWARNING: Ignoring invalid distribution -ertifi (/Users/aratheesh/Desktop/Data_Science_Projects/Python3/lib/python3.7/site-packages)\u001b[0m\u001b[33m\n",
      "\u001b[0mRequirement already satisfied: pandas in /Users/aratheesh/Desktop/Data_Science_Projects/Python3/lib/python3.7/site-packages (1.3.5)\n",
      "Requirement already satisfied: numpy in /Users/aratheesh/Desktop/Data_Science_Projects/Python3/lib/python3.7/site-packages (1.21.6)\n",
      "Requirement already satisfied: scikit-learn in /Users/aratheesh/Desktop/Data_Science_Projects/Python3/lib/python3.7/site-packages (1.0.2)\n",
      "Requirement already satisfied: xgboost in /Users/aratheesh/Desktop/Data_Science_Projects/Python3/lib/python3.7/site-packages (1.6.2)\n",
      "Requirement already satisfied: python-dateutil>=2.7.3 in /Users/aratheesh/Desktop/Data_Science_Projects/Python3/lib/python3.7/site-packages (from pandas) (2.8.2)\n",
      "Requirement already satisfied: pytz>=2017.3 in /Users/aratheesh/Desktop/Data_Science_Projects/Python3/lib/python3.7/site-packages (from pandas) (2022.7.1)\n",
      "Requirement already satisfied: scipy>=1.1.0 in /Users/aratheesh/Desktop/Data_Science_Projects/Python3/lib/python3.7/site-packages (from scikit-learn) (1.7.3)\n",
      "Requirement already satisfied: joblib>=0.11 in /Users/aratheesh/Desktop/Data_Science_Projects/Python3/lib/python3.7/site-packages (from scikit-learn) (1.2.0)\n",
      "Requirement already satisfied: threadpoolctl>=2.0.0 in /Users/aratheesh/Desktop/Data_Science_Projects/Python3/lib/python3.7/site-packages (from scikit-learn) (3.1.0)\n",
      "Requirement already satisfied: six>=1.5 in /Users/aratheesh/Desktop/Data_Science_Projects/Python3/lib/python3.7/site-packages (from python-dateutil>=2.7.3->pandas) (1.16.0)\n",
      "\u001b[33mWARNING: Ignoring invalid distribution -ertifi (/Users/aratheesh/Desktop/Data_Science_Projects/Python3/lib/python3.7/site-packages)\u001b[0m\u001b[33m\n",
      "\u001b[0m"
     ]
    }
   ],
   "source": [
    "!pip install pandas numpy scikit-learn xgboost"
   ]
  },
  {
   "cell_type": "markdown",
   "id": "29bf2b86",
   "metadata": {},
   "source": [
    "For demonstration, we use a synthetic dataset with user, ad, and context features."
   ]
  },
  {
   "cell_type": "code",
   "execution_count": 66,
   "id": "c67d9136",
   "metadata": {},
   "outputs": [],
   "source": [
    "import numpy as np\n",
    "import pandas as pd\n",
    "from sklearn.model_selection import train_test_split\n",
    "from sklearn.preprocessing import StandardScaler, OneHotEncoder\n",
    "from sklearn.metrics import roc_auc_score, log_loss, accuracy_score"
   ]
  },
  {
   "cell_type": "markdown",
   "id": "be00c82b",
   "metadata": {},
   "source": [
    "## CTR Prediction with Simulated Dataset"
   ]
  },
  {
   "cell_type": "code",
   "execution_count": 67,
   "id": "ed28d0fc",
   "metadata": {},
   "outputs": [],
   "source": [
    "# Simulated dataset \n",
    "np.random.seed(42)\n",
    "data_size = 10000\n",
    "\n",
    "df = pd.DataFrame({\n",
    "    'user_age': np.random.randint(18, 65, data_size),\n",
    "    'user_gender': np.random.choice([0, 1], data_size),  # 0: Male, 1: Female\n",
    "    'ad_category': np.random.randint(0, 10, data_size),\n",
    "    'ad_price': np.random.uniform(1, 100, data_size),\n",
    "    'click': np.random.choice([0, 1], data_size, p=[0.8, 0.2])  # CTR is ~20%\n",
    "})"
   ]
  },
  {
   "cell_type": "code",
   "execution_count": 68,
   "id": "75864388",
   "metadata": {},
   "outputs": [],
   "source": [
    "# One-hot encoding categorical features\n",
    "df = pd.get_dummies(df, columns=['ad_category'], drop_first=True)"
   ]
  },
  {
   "cell_type": "code",
   "execution_count": 69,
   "id": "6b47dda3",
   "metadata": {},
   "outputs": [],
   "source": [
    "# Features and target\n",
    "X = df.drop(columns=['click'])\n",
    "y = df['click']\n",
    "\n",
    "# Split data\n",
    "X_train, X_test, y_train, y_test = train_test_split(X, y, test_size=0.2, random_state=42)"
   ]
  },
  {
   "cell_type": "code",
   "execution_count": 70,
   "id": "20c31405",
   "metadata": {},
   "outputs": [],
   "source": [
    "# Scale numerical features\n",
    "scaler = StandardScaler()\n",
    "X_train[['user_age', 'ad_price']] = scaler.fit_transform(X_train[['user_age', 'ad_price']])\n",
    "X_test[['user_age', 'ad_price']] = scaler.transform(X_test[['user_age', 'ad_price']])"
   ]
  },
  {
   "cell_type": "markdown",
   "id": "6af2a790",
   "metadata": {},
   "source": [
    "### Train a Logistic Regression Model"
   ]
  },
  {
   "cell_type": "code",
   "execution_count": 71,
   "id": "40a49170",
   "metadata": {},
   "outputs": [
    {
     "name": "stdout",
     "output_type": "stream",
     "text": [
      "AUC: 0.5000\n",
      "Log Loss: 0.5044\n",
      "Accuracy: 0.7970\n"
     ]
    }
   ],
   "source": [
    "from sklearn.linear_model import LogisticRegression\n",
    "\n",
    "# Train logistic regression\n",
    "lr_model = LogisticRegression()\n",
    "lr_model.fit(X_train, y_train)\n",
    "\n",
    "# Predict\n",
    "y_pred_prob = lr_model.predict_proba(X_test)[:, 1]\n",
    "y_pred = (y_pred_prob > 0.5).astype(int)\n",
    "\n",
    "# Evaluate\n",
    "print(f'AUC: {roc_auc_score(y_test, y_pred):.4f}')\n",
    "print(f'Log Loss: {log_loss(y_test, y_pred_prob):.4f}')\n",
    "print(f'Accuracy: {accuracy_score(y_test, y_pred):.4f}')\n"
   ]
  },
  {
   "cell_type": "markdown",
   "id": "f8e5d98e",
   "metadata": {},
   "source": [
    "### Train an XGBoost Model"
   ]
  },
  {
   "cell_type": "code",
   "execution_count": 72,
   "id": "e96c2be2",
   "metadata": {},
   "outputs": [
    {
     "name": "stdout",
     "output_type": "stream",
     "text": [
      "AUC: 0.5057\n",
      "XGBoost Log Loss: 0.5361\n",
      "XGBoost Accuracy: 0.7885\n"
     ]
    }
   ],
   "source": [
    "import xgboost as xgb\n",
    "\n",
    "# Train XGBoost classifier\n",
    "xgb_model = xgb.XGBClassifier(use_label_encoder=False, eval_metric='logloss')\n",
    "xgb_model.fit(X_train, y_train)\n",
    "\n",
    "# Predict\n",
    "y_pred_prob_xgb = xgb_model.predict_proba(X_test)[:, 1]\n",
    "y_pred_xgb = (y_pred_prob_xgb > 0.5).astype(int)\n",
    "\n",
    "# Evaluate\n",
    "print(f'AUC: {roc_auc_score(y_test, y_pred_xgb):.4f}')\n",
    "print(f'XGBoost Log Loss: {log_loss(y_test, y_pred_prob_xgb):.4f}')\n",
    "print(f'XGBoost Accuracy: {accuracy_score(y_test, y_pred_xgb):.4f}')\n"
   ]
  },
  {
   "cell_type": "markdown",
   "id": "4a0cfe64",
   "metadata": {},
   "source": [
    "## CTR Prediction with Criteo Data Sample"
   ]
  },
  {
   "cell_type": "code",
   "execution_count": 73,
   "id": "35110880",
   "metadata": {},
   "outputs": [
    {
     "data": {
      "text/html": [
       "<div>\n",
       "<style scoped>\n",
       "    .dataframe tbody tr th:only-of-type {\n",
       "        vertical-align: middle;\n",
       "    }\n",
       "\n",
       "    .dataframe tbody tr th {\n",
       "        vertical-align: top;\n",
       "    }\n",
       "\n",
       "    .dataframe thead th {\n",
       "        text-align: right;\n",
       "    }\n",
       "</style>\n",
       "<table border=\"1\" class=\"dataframe\">\n",
       "  <thead>\n",
       "    <tr style=\"text-align: right;\">\n",
       "      <th></th>\n",
       "      <th>label</th>\n",
       "      <th>I1</th>\n",
       "      <th>I2</th>\n",
       "      <th>I3</th>\n",
       "      <th>I4</th>\n",
       "      <th>I5</th>\n",
       "      <th>I6</th>\n",
       "      <th>I7</th>\n",
       "      <th>I8</th>\n",
       "      <th>I9</th>\n",
       "      <th>...</th>\n",
       "      <th>C17</th>\n",
       "      <th>C18</th>\n",
       "      <th>C19</th>\n",
       "      <th>C20</th>\n",
       "      <th>C21</th>\n",
       "      <th>C22</th>\n",
       "      <th>C23</th>\n",
       "      <th>C24</th>\n",
       "      <th>C25</th>\n",
       "      <th>C26</th>\n",
       "    </tr>\n",
       "  </thead>\n",
       "  <tbody>\n",
       "    <tr>\n",
       "      <th>0</th>\n",
       "      <td>0</td>\n",
       "      <td>NaN</td>\n",
       "      <td>3</td>\n",
       "      <td>260.0</td>\n",
       "      <td>NaN</td>\n",
       "      <td>17668.0</td>\n",
       "      <td>NaN</td>\n",
       "      <td>NaN</td>\n",
       "      <td>33.0</td>\n",
       "      <td>NaN</td>\n",
       "      <td>...</td>\n",
       "      <td>e5ba7672</td>\n",
       "      <td>87c6f83c</td>\n",
       "      <td>NaN</td>\n",
       "      <td>NaN</td>\n",
       "      <td>0429f84b</td>\n",
       "      <td>NaN</td>\n",
       "      <td>3a171ecb</td>\n",
       "      <td>c0d61a5c</td>\n",
       "      <td>NaN</td>\n",
       "      <td>NaN</td>\n",
       "    </tr>\n",
       "    <tr>\n",
       "      <th>1</th>\n",
       "      <td>0</td>\n",
       "      <td>NaN</td>\n",
       "      <td>-1</td>\n",
       "      <td>19.0</td>\n",
       "      <td>35.0</td>\n",
       "      <td>30251.0</td>\n",
       "      <td>247.0</td>\n",
       "      <td>1.0</td>\n",
       "      <td>35.0</td>\n",
       "      <td>160.0</td>\n",
       "      <td>...</td>\n",
       "      <td>d4bb7bd8</td>\n",
       "      <td>6fc84bfb</td>\n",
       "      <td>NaN</td>\n",
       "      <td>NaN</td>\n",
       "      <td>5155d8a3</td>\n",
       "      <td>NaN</td>\n",
       "      <td>be7c41b4</td>\n",
       "      <td>ded4aac9</td>\n",
       "      <td>NaN</td>\n",
       "      <td>NaN</td>\n",
       "    </tr>\n",
       "    <tr>\n",
       "      <th>2</th>\n",
       "      <td>0</td>\n",
       "      <td>0.0</td>\n",
       "      <td>0</td>\n",
       "      <td>2.0</td>\n",
       "      <td>12.0</td>\n",
       "      <td>2013.0</td>\n",
       "      <td>164.0</td>\n",
       "      <td>6.0</td>\n",
       "      <td>35.0</td>\n",
       "      <td>523.0</td>\n",
       "      <td>...</td>\n",
       "      <td>e5ba7672</td>\n",
       "      <td>675c9258</td>\n",
       "      <td>NaN</td>\n",
       "      <td>NaN</td>\n",
       "      <td>2e01979f</td>\n",
       "      <td>NaN</td>\n",
       "      <td>bcdee96c</td>\n",
       "      <td>6d5d1302</td>\n",
       "      <td>NaN</td>\n",
       "      <td>NaN</td>\n",
       "    </tr>\n",
       "    <tr>\n",
       "      <th>3</th>\n",
       "      <td>0</td>\n",
       "      <td>NaN</td>\n",
       "      <td>13</td>\n",
       "      <td>1.0</td>\n",
       "      <td>4.0</td>\n",
       "      <td>16836.0</td>\n",
       "      <td>200.0</td>\n",
       "      <td>5.0</td>\n",
       "      <td>4.0</td>\n",
       "      <td>29.0</td>\n",
       "      <td>...</td>\n",
       "      <td>e5ba7672</td>\n",
       "      <td>52e44668</td>\n",
       "      <td>NaN</td>\n",
       "      <td>NaN</td>\n",
       "      <td>e587c466</td>\n",
       "      <td>NaN</td>\n",
       "      <td>32c7478e</td>\n",
       "      <td>3b183c5c</td>\n",
       "      <td>NaN</td>\n",
       "      <td>NaN</td>\n",
       "    </tr>\n",
       "    <tr>\n",
       "      <th>4</th>\n",
       "      <td>0</td>\n",
       "      <td>0.0</td>\n",
       "      <td>0</td>\n",
       "      <td>104.0</td>\n",
       "      <td>27.0</td>\n",
       "      <td>1990.0</td>\n",
       "      <td>142.0</td>\n",
       "      <td>4.0</td>\n",
       "      <td>32.0</td>\n",
       "      <td>37.0</td>\n",
       "      <td>...</td>\n",
       "      <td>e5ba7672</td>\n",
       "      <td>25c88e42</td>\n",
       "      <td>21ddcdc9</td>\n",
       "      <td>b1252a9d</td>\n",
       "      <td>0e8585d2</td>\n",
       "      <td>NaN</td>\n",
       "      <td>32c7478e</td>\n",
       "      <td>0d4a6d1a</td>\n",
       "      <td>001f3601</td>\n",
       "      <td>92c878de</td>\n",
       "    </tr>\n",
       "    <tr>\n",
       "      <th>...</th>\n",
       "      <td>...</td>\n",
       "      <td>...</td>\n",
       "      <td>...</td>\n",
       "      <td>...</td>\n",
       "      <td>...</td>\n",
       "      <td>...</td>\n",
       "      <td>...</td>\n",
       "      <td>...</td>\n",
       "      <td>...</td>\n",
       "      <td>...</td>\n",
       "      <td>...</td>\n",
       "      <td>...</td>\n",
       "      <td>...</td>\n",
       "      <td>...</td>\n",
       "      <td>...</td>\n",
       "      <td>...</td>\n",
       "      <td>...</td>\n",
       "      <td>...</td>\n",
       "      <td>...</td>\n",
       "      <td>...</td>\n",
       "      <td>...</td>\n",
       "    </tr>\n",
       "    <tr>\n",
       "      <th>195</th>\n",
       "      <td>0</td>\n",
       "      <td>NaN</td>\n",
       "      <td>0</td>\n",
       "      <td>113.0</td>\n",
       "      <td>3.0</td>\n",
       "      <td>3036.0</td>\n",
       "      <td>575.0</td>\n",
       "      <td>2.0</td>\n",
       "      <td>3.0</td>\n",
       "      <td>214.0</td>\n",
       "      <td>...</td>\n",
       "      <td>07c540c4</td>\n",
       "      <td>9880032b</td>\n",
       "      <td>21ddcdc9</td>\n",
       "      <td>5840adea</td>\n",
       "      <td>34cc61bb</td>\n",
       "      <td>c9d4222a</td>\n",
       "      <td>32c7478e</td>\n",
       "      <td>e5ed7da2</td>\n",
       "      <td>ea9a246c</td>\n",
       "      <td>984e0db0</td>\n",
       "    </tr>\n",
       "    <tr>\n",
       "      <th>196</th>\n",
       "      <td>1</td>\n",
       "      <td>0.0</td>\n",
       "      <td>1</td>\n",
       "      <td>1.0</td>\n",
       "      <td>1.0</td>\n",
       "      <td>1607.0</td>\n",
       "      <td>12.0</td>\n",
       "      <td>1.0</td>\n",
       "      <td>12.0</td>\n",
       "      <td>15.0</td>\n",
       "      <td>...</td>\n",
       "      <td>1e88c74f</td>\n",
       "      <td>3972b4ed</td>\n",
       "      <td>NaN</td>\n",
       "      <td>NaN</td>\n",
       "      <td>d1aa4512</td>\n",
       "      <td>NaN</td>\n",
       "      <td>32c7478e</td>\n",
       "      <td>9257f75f</td>\n",
       "      <td>NaN</td>\n",
       "      <td>NaN</td>\n",
       "    </tr>\n",
       "    <tr>\n",
       "      <th>197</th>\n",
       "      <td>1</td>\n",
       "      <td>1.0</td>\n",
       "      <td>0</td>\n",
       "      <td>6.0</td>\n",
       "      <td>3.0</td>\n",
       "      <td>0.0</td>\n",
       "      <td>0.0</td>\n",
       "      <td>19.0</td>\n",
       "      <td>3.0</td>\n",
       "      <td>3.0</td>\n",
       "      <td>...</td>\n",
       "      <td>3486227d</td>\n",
       "      <td>5aed7436</td>\n",
       "      <td>54591762</td>\n",
       "      <td>a458ea53</td>\n",
       "      <td>4a2c3526</td>\n",
       "      <td>NaN</td>\n",
       "      <td>32c7478e</td>\n",
       "      <td>1793a828</td>\n",
       "      <td>e8b83407</td>\n",
       "      <td>1a02cbe1</td>\n",
       "    </tr>\n",
       "    <tr>\n",
       "      <th>198</th>\n",
       "      <td>0</td>\n",
       "      <td>0.0</td>\n",
       "      <td>22</td>\n",
       "      <td>6.0</td>\n",
       "      <td>22.0</td>\n",
       "      <td>203.0</td>\n",
       "      <td>153.0</td>\n",
       "      <td>80.0</td>\n",
       "      <td>18.0</td>\n",
       "      <td>508.0</td>\n",
       "      <td>...</td>\n",
       "      <td>3486227d</td>\n",
       "      <td>13145934</td>\n",
       "      <td>55dd3565</td>\n",
       "      <td>5840adea</td>\n",
       "      <td>bf647035</td>\n",
       "      <td>NaN</td>\n",
       "      <td>32c7478e</td>\n",
       "      <td>1481ceb4</td>\n",
       "      <td>e8b83407</td>\n",
       "      <td>988b0775</td>\n",
       "    </tr>\n",
       "    <tr>\n",
       "      <th>199</th>\n",
       "      <td>0</td>\n",
       "      <td>1.0</td>\n",
       "      <td>-1</td>\n",
       "      <td>NaN</td>\n",
       "      <td>NaN</td>\n",
       "      <td>138.0</td>\n",
       "      <td>0.0</td>\n",
       "      <td>1.0</td>\n",
       "      <td>0.0</td>\n",
       "      <td>0.0</td>\n",
       "      <td>...</td>\n",
       "      <td>d4bb7bd8</td>\n",
       "      <td>908eaeb8</td>\n",
       "      <td>NaN</td>\n",
       "      <td>NaN</td>\n",
       "      <td>NaN</td>\n",
       "      <td>NaN</td>\n",
       "      <td>32c7478e</td>\n",
       "      <td>NaN</td>\n",
       "      <td>NaN</td>\n",
       "      <td>NaN</td>\n",
       "    </tr>\n",
       "  </tbody>\n",
       "</table>\n",
       "<p>200 rows × 40 columns</p>\n",
       "</div>"
      ],
      "text/plain": [
       "     label   I1  I2     I3    I4       I5     I6    I7    I8     I9  ...  \\\n",
       "0        0  NaN   3  260.0   NaN  17668.0    NaN   NaN  33.0    NaN  ...   \n",
       "1        0  NaN  -1   19.0  35.0  30251.0  247.0   1.0  35.0  160.0  ...   \n",
       "2        0  0.0   0    2.0  12.0   2013.0  164.0   6.0  35.0  523.0  ...   \n",
       "3        0  NaN  13    1.0   4.0  16836.0  200.0   5.0   4.0   29.0  ...   \n",
       "4        0  0.0   0  104.0  27.0   1990.0  142.0   4.0  32.0   37.0  ...   \n",
       "..     ...  ...  ..    ...   ...      ...    ...   ...   ...    ...  ...   \n",
       "195      0  NaN   0  113.0   3.0   3036.0  575.0   2.0   3.0  214.0  ...   \n",
       "196      1  0.0   1    1.0   1.0   1607.0   12.0   1.0  12.0   15.0  ...   \n",
       "197      1  1.0   0    6.0   3.0      0.0    0.0  19.0   3.0    3.0  ...   \n",
       "198      0  0.0  22    6.0  22.0    203.0  153.0  80.0  18.0  508.0  ...   \n",
       "199      0  1.0  -1    NaN   NaN    138.0    0.0   1.0   0.0    0.0  ...   \n",
       "\n",
       "          C17       C18       C19       C20       C21       C22       C23  \\\n",
       "0    e5ba7672  87c6f83c       NaN       NaN  0429f84b       NaN  3a171ecb   \n",
       "1    d4bb7bd8  6fc84bfb       NaN       NaN  5155d8a3       NaN  be7c41b4   \n",
       "2    e5ba7672  675c9258       NaN       NaN  2e01979f       NaN  bcdee96c   \n",
       "3    e5ba7672  52e44668       NaN       NaN  e587c466       NaN  32c7478e   \n",
       "4    e5ba7672  25c88e42  21ddcdc9  b1252a9d  0e8585d2       NaN  32c7478e   \n",
       "..        ...       ...       ...       ...       ...       ...       ...   \n",
       "195  07c540c4  9880032b  21ddcdc9  5840adea  34cc61bb  c9d4222a  32c7478e   \n",
       "196  1e88c74f  3972b4ed       NaN       NaN  d1aa4512       NaN  32c7478e   \n",
       "197  3486227d  5aed7436  54591762  a458ea53  4a2c3526       NaN  32c7478e   \n",
       "198  3486227d  13145934  55dd3565  5840adea  bf647035       NaN  32c7478e   \n",
       "199  d4bb7bd8  908eaeb8       NaN       NaN       NaN       NaN  32c7478e   \n",
       "\n",
       "          C24       C25       C26  \n",
       "0    c0d61a5c       NaN       NaN  \n",
       "1    ded4aac9       NaN       NaN  \n",
       "2    6d5d1302       NaN       NaN  \n",
       "3    3b183c5c       NaN       NaN  \n",
       "4    0d4a6d1a  001f3601  92c878de  \n",
       "..        ...       ...       ...  \n",
       "195  e5ed7da2  ea9a246c  984e0db0  \n",
       "196  9257f75f       NaN       NaN  \n",
       "197  1793a828  e8b83407  1a02cbe1  \n",
       "198  1481ceb4  e8b83407  988b0775  \n",
       "199       NaN       NaN       NaN  \n",
       "\n",
       "[200 rows x 40 columns]"
      ]
     },
     "execution_count": 73,
     "metadata": {},
     "output_type": "execute_result"
    }
   ],
   "source": [
    "# Load dataset (Criteo Sample Data)\n",
    "file = \"criteo_sample.txt\"\n",
    "df = pd.read_csv(file)\n",
    "df"
   ]
  },
  {
   "cell_type": "code",
   "execution_count": 74,
   "id": "cf8e187d",
   "metadata": {},
   "outputs": [],
   "source": [
    "# Rename columns\n",
    "df.columns = ['click'] + [f'feature_{i}' for i in range(1, df.shape[1])]\n",
    "\n",
    "# Handle missing values\n",
    "df.fillna(-1, inplace=True)"
   ]
  },
  {
   "cell_type": "code",
   "execution_count": 75,
   "id": "e5e06938",
   "metadata": {},
   "outputs": [],
   "source": [
    "# Preprocess data\n",
    "categorical_features = pd.DataFrame(df.dtypes, columns = ['col_dtype'])\n",
    "categorical_features = categorical_features.index[categorical_features[\"col_dtype\"]=='object'].to_list()\n",
    "numerical_features = [col for col in df.columns if (col not in categorical_features and col!='label')]\n",
    "\n",
    "label = 'click'\n",
    "\n",
    "# One-Hot Encode Categorical Features\n",
    "ohe = OneHotEncoder(handle_unknown='ignore', sparse=False)\n",
    "X_cat = ohe.fit_transform(df[categorical_features].astype('str'))\n",
    "\n",
    "# Standardize Numerical Features\n",
    "scaler = StandardScaler()\n",
    "X_num = scaler.fit_transform(df[numerical_features])\n"
   ]
  },
  {
   "cell_type": "code",
   "execution_count": 76,
   "id": "f94dc59a",
   "metadata": {},
   "outputs": [],
   "source": [
    "# Combine Features\n",
    "X = np.hstack([X_num, X_cat])\n",
    "y = df[label].values\n",
    "\n",
    "# Split Data\n",
    "X_train, X_test, y_train, y_test = train_test_split(X, y, test_size=0.2, random_state=42)"
   ]
  },
  {
   "cell_type": "markdown",
   "id": "dea46bca",
   "metadata": {},
   "source": [
    "## Logistic Regression Model with Criteo Data Sample "
   ]
  },
  {
   "cell_type": "code",
   "execution_count": 77,
   "id": "68b71ad3",
   "metadata": {},
   "outputs": [],
   "source": [
    "lr_model = LogisticRegression()\n",
    "lr_model.fit(X_train, y_train)\n",
    "lr_preds = lr_model.predict_proba(X_test)[:, 1]"
   ]
  },
  {
   "cell_type": "markdown",
   "id": "2e37c806",
   "metadata": {},
   "source": [
    "### Evaluate Logistic Regression"
   ]
  },
  {
   "cell_type": "code",
   "execution_count": 78,
   "id": "7d903259",
   "metadata": {},
   "outputs": [
    {
     "name": "stdout",
     "output_type": "stream",
     "text": [
      "Logistic Regression AUC: 1.0000, Log Loss: 0.0291\n"
     ]
    }
   ],
   "source": [
    "lr_auc = roc_auc_score(y_test, lr_preds)\n",
    "lr_logloss = log_loss(y_test, lr_preds)\n",
    "print(f\"Logistic Regression AUC: {lr_auc:.4f}, Log Loss: {lr_logloss:.4f}\")"
   ]
  },
  {
   "cell_type": "markdown",
   "id": "61776258",
   "metadata": {},
   "source": [
    "## XGBoost Model with Criteo Data Sample "
   ]
  },
  {
   "cell_type": "code",
   "execution_count": 79,
   "id": "ec75a094",
   "metadata": {},
   "outputs": [],
   "source": [
    "xgb_model = xgb.XGBClassifier(n_estimators=100, learning_rate=0.1, max_depth=6, use_label_encoder=False, eval_metric='logloss')\n",
    "xgb_model.fit(X_train, y_train)\n",
    "xgb_preds = xgb_model.predict_proba(X_test)[:, 1]"
   ]
  },
  {
   "cell_type": "markdown",
   "id": "c1bcad5b",
   "metadata": {},
   "source": [
    "### Evaluate XGBoost"
   ]
  },
  {
   "cell_type": "code",
   "execution_count": 80,
   "id": "4d1307c6",
   "metadata": {},
   "outputs": [
    {
     "name": "stdout",
     "output_type": "stream",
     "text": [
      "XGBoost AUC: 1.0000, Log Loss: 0.0131\n"
     ]
    }
   ],
   "source": [
    "xgb_auc = roc_auc_score(y_test, xgb_preds)\n",
    "xgb_logloss = log_loss(y_test, xgb_preds)\n",
    "print(f\"XGBoost AUC: {xgb_auc:.4f}, Log Loss: {xgb_logloss:.4f}\")"
   ]
  },
  {
   "cell_type": "markdown",
   "id": "9ac80664",
   "metadata": {},
   "source": [
    "Both Logistic Regression and XGBoost are achieving an AUC of 1.0000, which is suspiciously perfect. This suggests data leakage—meaning the models might be learning from features that directly or indirectly contain the target variable.\n",
    "\n",
    "#### Which One Is Better?\n",
    "\n",
    "AUC (Area Under Curve):\n",
    "\n",
    "    Since both models have AUC = 1.0000, they are both distinguishing between classes perfectly.\n",
    "    However, this is unrealistic in real-world datasets.\n",
    "\n",
    "Log Loss (Lower is Better):\n",
    "\n",
    "    Logistic Regression Log Loss: 0.0291\n",
    "    XGBoost Log Loss: 0.0131 (lower = better)\n",
    "    XGBoost performs slightly better in terms of probabilistic predictions."
   ]
  }
 ],
 "metadata": {
  "kernelspec": {
   "display_name": "Python 3 (ipykernel)",
   "language": "python",
   "name": "python3"
  },
  "language_info": {
   "codemirror_mode": {
    "name": "ipython",
    "version": 3
   },
   "file_extension": ".py",
   "mimetype": "text/x-python",
   "name": "python",
   "nbconvert_exporter": "python",
   "pygments_lexer": "ipython3",
   "version": "3.7.9"
  }
 },
 "nbformat": 4,
 "nbformat_minor": 5
}
